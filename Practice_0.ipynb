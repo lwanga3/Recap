{
  "nbformat": 4,
  "nbformat_minor": 0,
  "metadata": {
    "colab": {
      "provenance": [],
      "authorship_tag": "ABX9TyN3rAy10mXGkajR34lPIcRm",
      "include_colab_link": true
    },
    "kernelspec": {
      "name": "python3",
      "display_name": "Python 3"
    },
    "language_info": {
      "name": "python"
    }
  },
  "cells": [
    {
      "cell_type": "markdown",
      "metadata": {
        "id": "view-in-github",
        "colab_type": "text"
      },
      "source": [
        "<a href=\"https://colab.research.google.com/github/lwanga3/Recap/blob/master/Practice_0.ipynb\" target=\"_parent\"><img src=\"https://colab.research.google.com/assets/colab-badge.svg\" alt=\"Open In Colab\"/></a>"
      ]
    },
    {
      "cell_type": "code",
      "execution_count": 1,
      "metadata": {
        "colab": {
          "base_uri": "https://localhost:8080/"
        },
        "id": "hTV6OvaiPjad",
        "outputId": "cc713ef3-9071-4044-9558-0016934f3e82"
      },
      "outputs": [
        {
          "output_type": "execute_result",
          "data": {
            "text/plain": [
              "5"
            ]
          },
          "metadata": {},
          "execution_count": 1
        }
      ],
      "source": [
        "2+3"
      ]
    },
    {
      "cell_type": "code",
      "source": [
        "5-7"
      ],
      "metadata": {
        "colab": {
          "base_uri": "https://localhost:8080/"
        },
        "id": "-4dyGHp4P2e0",
        "outputId": "8894130e-9aa9-4b76-9d98-76ff115fc339"
      },
      "execution_count": 2,
      "outputs": [
        {
          "output_type": "execute_result",
          "data": {
            "text/plain": [
              "-2"
            ]
          },
          "metadata": {},
          "execution_count": 2
        }
      ]
    },
    {
      "cell_type": "code",
      "source": [
        "print(2*2)\n",
        "print(5/2)\n",
        "print(7-4)\n",
        "print(9+1)"
      ],
      "metadata": {
        "colab": {
          "base_uri": "https://localhost:8080/"
        },
        "id": "9OPM3OrIR5zk",
        "outputId": "848b7d90-2f31-41a8-80be-3df949e991f2"
      },
      "execution_count": 3,
      "outputs": [
        {
          "output_type": "stream",
          "name": "stdout",
          "text": [
            "4\n",
            "2.5\n",
            "3\n",
            "10\n"
          ]
        }
      ]
    },
    {
      "cell_type": "code",
      "source": [
        "?round"
      ],
      "metadata": {
        "id": "be8TqQolSK6t"
      },
      "execution_count": 4,
      "outputs": []
    },
    {
      "cell_type": "code",
      "source": [
        "round(5/7,3)"
      ],
      "metadata": {
        "colab": {
          "base_uri": "https://localhost:8080/"
        },
        "id": "LPa55hSKVHHg",
        "outputId": "67cac0cb-0165-4408-b5c1-c5ef2a973e53"
      },
      "execution_count": 5,
      "outputs": [
        {
          "output_type": "execute_result",
          "data": {
            "text/plain": [
              "0.714"
            ]
          },
          "metadata": {},
          "execution_count": 5
        }
      ]
    },
    {
      "cell_type": "code",
      "source": [
        "#interger\n",
        "x=2\n",
        "print(type(x))\n",
        "\n",
        "#float\n",
        "y=10.1\n",
        "print(type(y))\n",
        "\n",
        "#boolean\n",
        "a=True\n",
        "print(type(a)) "
      ],
      "metadata": {
        "colab": {
          "base_uri": "https://localhost:8080/"
        },
        "id": "l9z4MnTlVbt4",
        "outputId": "2fafde0f-474f-4a99-b924-fccb58a25f29"
      },
      "execution_count": 6,
      "outputs": [
        {
          "output_type": "stream",
          "name": "stdout",
          "text": [
            "<class 'int'>\n",
            "<class 'float'>\n",
            "<class 'bool'>\n"
          ]
        }
      ]
    },
    {
      "cell_type": "code",
      "source": [
        "x_3=5\n",
        "print(x_3)"
      ],
      "metadata": {
        "colab": {
          "base_uri": "https://localhost:8080/"
        },
        "id": "fSjkeQwHYHoc",
        "outputId": "996759ba-0d9c-498b-af32-f41b76c4af94"
      },
      "execution_count": 10,
      "outputs": [
        {
          "output_type": "stream",
          "name": "stdout",
          "text": [
            "5\n"
          ]
        }
      ]
    },
    {
      "cell_type": "code",
      "source": [
        "y=1990\n",
        "x='1990'\n",
        "print(type(x))\n",
        "print(type(y))"
      ],
      "metadata": {
        "colab": {
          "base_uri": "https://localhost:8080/"
        },
        "id": "O-m-Q_4UYkPW",
        "outputId": "561e6844-615a-453f-e055-9d249bfc73a5"
      },
      "execution_count": 14,
      "outputs": [
        {
          "output_type": "stream",
          "name": "stdout",
          "text": [
            "<class 'str'>\n",
            "<class 'int'>\n"
          ]
        }
      ]
    },
    {
      "cell_type": "code",
      "source": [
        "list=['Passion', 2.3, ['Messi', True, 3]]\n",
        "print(list)\n",
        "print(list[1])\n",
        "list.append('dragonfruit')\n",
        "print(list)"
      ],
      "metadata": {
        "colab": {
          "base_uri": "https://localhost:8080/"
        },
        "id": "WLkStL0CjAdd",
        "outputId": "859316ac-64b2-4c88-ce4d-d957d021eaab"
      },
      "execution_count": 18,
      "outputs": [
        {
          "output_type": "stream",
          "name": "stdout",
          "text": [
            "['Passion', 2.3, ['Messi', True, 3]]\n",
            "2.3\n",
            "['Passion', 2.3, ['Messi', True, 3], 'dragonfruit']\n"
          ]
        }
      ]
    },
    {
      "cell_type": "code",
      "source": [
        "#5 favorite movies\n",
        "Movies=['The Godfather', 'Good Fellows', 'Good will Hunting', 'Hangover','12 Strong']\n",
        "print(Movies) \n",
        "Movies.append('3 Idiots')\n",
        "print(Movies) \n",
        "Movies.remove('3 Idiots')\n",
        "print(Movies)"
      ],
      "metadata": {
        "colab": {
          "base_uri": "https://localhost:8080/"
        },
        "id": "Gj4Q_eFAoMLg",
        "outputId": "c519c51d-fc08-4831-88c5-19e340c680ee"
      },
      "execution_count": 3,
      "outputs": [
        {
          "output_type": "stream",
          "name": "stdout",
          "text": [
            "['The Godfather', 'Good Fellows', 'Good will Hunting', 'Hangover', '12 Strong']\n",
            "['The Godfather', 'Good Fellows', 'Good will Hunting', 'Hangover', '12 Strong', '3 Idiots']\n",
            "['The Godfather', 'Good Fellows', 'Good will Hunting', 'Hangover', '12 Strong']\n"
          ]
        }
      ]
    },
    {
      "cell_type": "code",
      "source": [
        "#Dictonaries\n"
      ],
      "metadata": {
        "id": "Bs45Yen35WcG"
      },
      "execution_count": null,
      "outputs": []
    }
  ]
}